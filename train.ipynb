{
  "cells": [
    {
      "cell_type": "markdown",
      "id": "cf27c470",
      "metadata": {
        "id": "cf27c470"
      },
      "source": [
        "[![Open In Colab](https://colab.research.google.com/assets/colab-badge.svg)](https://colab.research.google.com/github/Infineon-X/multi-face-rec/blob/main/train.ipynb)  \\n\n",
        "train.ipynb is compatible with Google Colab."
      ]
    },
    {
      "cell_type": "markdown",
      "metadata": {
        "id": "iG0snu51PCr4"
      },
      "source": [
        "# Face Training Notebook\n",
        "\n",
        "This notebook mirrors the project's `train.py` and adds step-by-step explanations. It incrementally builds and updates a face encodings database (`encodings.pkl`) from images stored under the `training/` directory. It also tracks which person folders have already been processed in `trained_folders.csv` to avoid retraining the same images."
      ],
      "id": "iG0snu51PCr4"
    },
    {
      "cell_type": "markdown",
      "metadata": {
        "id": "ZZ85BFLSPCr5"
      },
      "source": [
        "## How It Works\n",
        "- Scans `training/` for subfolders, one per person (folder name = label).\n",
        "- Optionally loads existing encodings to add new faces incrementally.\n",
        "- Detects faces in each image and computes embeddings using `face_recognition`.\n",
        "- Saves updated encodings to `encodings.pkl` and updates `trained_folders.csv`.\n",
        "\n",
        "If you add a new folder under `training/`, re-run the training cell to append new encodings without retraining previous ones."
      ],
      "id": "ZZ85BFLSPCr5"
    },
    {
      "cell_type": "markdown",
      "id": "3b3901af",
      "metadata": {
        "id": "3b3901af"
      },
      "source": [
        "## Colab Setup (Optional)\n",
        "If running on Google Colab: install deps, optionally mount Drive, and set training/output paths."
      ]
    },
    {
      "cell_type": "code",
      "execution_count": 5,
      "id": "9a67b3b9",
      "metadata": {
        "id": "9a67b3b9",
        "outputId": "ee043555-a844-40c4-b466-67d932fac99d",
        "colab": {
          "base_uri": "https://localhost:8080/"
        }
      },
      "outputs": [
        {
          "output_type": "stream",
          "name": "stdout",
          "text": [
            "\u001b[2K     \u001b[90m━━━━━━━━━━━━━━━━━━━━━━━━━━━━━━━━━━━━━━\u001b[0m \u001b[32m100.1/100.1 MB\u001b[0m \u001b[31m26.8 MB/s\u001b[0m eta \u001b[36m0:00:00\u001b[0m\n",
            "\u001b[?25h  Preparing metadata (setup.py) ... \u001b[?25l\u001b[?25hdone\n",
            "  Building wheel for face-recognition-models (setup.py) ... \u001b[?25l\u001b[?25hdone\n",
            "Dependencies installed for Colab\n"
          ]
        }
      ],
      "source": [
        "# Detect Colab and install dependencies\n",
        "import importlib.util, os\n",
        "IN_COLAB = importlib.util.find_spec('google.colab') is not None\n",
        "if IN_COLAB:\n",
        "    # Lightweight install; face-recognition pulls dlib\n",
        "    !pip -q install cmake face-recognition\n",
        "    print('Dependencies installed for Colab')\n",
        "else:\n",
        "    print('Running locally (no Colab installs)')\n"
      ]
    },
    {
      "cell_type": "code",
      "execution_count": 19,
      "id": "49aea214",
      "metadata": {
        "id": "49aea214",
        "outputId": "025ab4ed-28af-4151-97bd-059a816c0be4",
        "colab": {
          "base_uri": "https://localhost:8080/"
        }
      },
      "outputs": [
        {
          "output_type": "stream",
          "name": "stdout",
          "text": [
            "Mounted at /content/drive\n"
          ]
        }
      ],
      "source": [
        "# Optionally mount Google Drive to read/write data\n",
        "# Uncomment if your training images live on Drive\n",
        "from google.colab import drive\n",
        "drive.mount('/content/drive', force_remount=True)\n",
        "import os\n",
        "os.environ[\"TRAINING_DIR\"] = \"/content/drive/MyDrive/infineon-project/training\"\n",
        "os.environ[\"OUTPUT_DIR\"] = \"/content/drive/MyDrive/infineon-project/training-outputs\"\n",
        "\n"
      ]
    },
    {
      "cell_type": "markdown",
      "source": [],
      "metadata": {
        "id": "RQ5MmzYeQLtR"
      },
      "id": "RQ5MmzYeQLtR"
    },
    {
      "cell_type": "code",
      "execution_count": 20,
      "id": "451187ca",
      "metadata": {
        "id": "451187ca",
        "outputId": "4d0461e8-b5b0-4d8c-9ae7-3f761513147d",
        "colab": {
          "base_uri": "https://localhost:8080/"
        }
      },
      "outputs": [
        {
          "output_type": "stream",
          "name": "stdout",
          "text": [
            "Training dir: /content/drive/MyDrive/infineon-project/training\n",
            "Output dir  : /content/drive/MyDrive/infineon-project/training-outputs\n"
          ]
        }
      ],
      "source": [
        "# Configure paths (override via env if desired)\n",
        "BASE_DIR = '/content' if 'IN_COLAB' in globals() and IN_COLAB else os.getcwd()\n",
        "TRAINING_DIR = os.environ.get('TRAINING_DIR', str(os.path.join(BASE_DIR, 'training')))\n",
        "OUTPUT_DIR = os.environ.get('OUTPUT_DIR', BASE_DIR)\n",
        "print('Training dir:', TRAINING_DIR)\n",
        "print('Output dir  :', OUTPUT_DIR)\n"
      ]
    },
    {
      "cell_type": "markdown",
      "id": "570231a1",
      "metadata": {
        "id": "570231a1"
      },
      "source": [
        "## Imports and Configuration\n",
        "These imports and constants are identical to `train.py`. The `FOLDER_CSV` file records which person folders have already been processed."
      ]
    },
    {
      "cell_type": "code",
      "execution_count": 21,
      "id": "a10fd7c3",
      "metadata": {
        "id": "a10fd7c3"
      },
      "outputs": [],
      "source": [
        "import face_recognition\n",
        "from pathlib import Path\n",
        "import pickle\n",
        "import os\n",
        "import csv\n",
        "\n",
        "FOLDER_CSV = \"trained_folders.csv\"\n"
      ]
    },
    {
      "cell_type": "markdown",
      "id": "3d471a9d",
      "metadata": {
        "id": "3d471a9d"
      },
      "source": [
        "## Tracking Trained Folders\n",
        "We maintain a simple CSV file containing folder names that have been trained. This prevents reprocessing the same people on subsequent runs (incremental training)."
      ]
    },
    {
      "cell_type": "code",
      "execution_count": null,
      "id": "0c716c8b",
      "metadata": {
        "id": "0c716c8b"
      },
      "outputs": [],
      "source": [
        "def load_trained_folders(csv_path=FOLDER_CSV):\n",
        "    trained = set()\n",
        "    if os.path.exists(csv_path):\n",
        "        with open(csv_path, newline=\"\") as csvfile:\n",
        "            reader = csv.reader(csvfile)\n",
        "            for row in reader:\n",
        "                if row:\n",
        "                    trained.add(row[0])\n",
        "    return trained\n",
        "\n",
        "\n",
        "def save_trained_folders(trained, csv_path=FOLDER_CSV):\n",
        "    with open(csv_path, \"w\", newline=\"\") as csvfile:\n",
        "        writer = csv.writer(csvfile)\n",
        "        for folder in sorted(trained):\n",
        "            writer.writerow([folder])\n"
      ]
    },
    {
      "cell_type": "markdown",
      "id": "f154fd5a",
      "metadata": {
        "id": "f154fd5a"
      },
      "source": [
        "## Training Function\n",
        "The `train_faces` function is copied directly from `train.py`.\n",
        "- If `incremental=True` and `encodings.pkl` exists, the existing encodings are loaded and extended.\n",
        "- The code identifies new person folders (not listed in `trained_folders.csv`) and processes only those.\n",
        "- Each image is read, faces are located using the HOG model, and encodings are computed and stored along with the associated person name.\n",
        "- Results are persisted to `encodings.pkl`, and the folder list is updated."
      ]
    },
    {
      "cell_type": "code",
      "execution_count": null,
      "id": "96b3221f",
      "metadata": {
        "id": "96b3221f"
      },
      "outputs": [],
      "source": [
        "def train_faces(incremental=True, training_dir: str = TRAINING_DIR, output_dir: str = OUTPUT_DIR):\n",
        "    \"\"\"Train faces and skip folders (people) already trained before.\n",
        "\n",
        "    Args:\n",
        "        incremental: If True, load existing encodings and append new ones.\n",
        "        training_dir: Directory containing person subfolders with images.\n",
        "        output_dir: Directory to write `encodings.pkl` and `trained_folders.csv`.\n",
        "    \"\"\"\n",
        "\n",
        "    encodings_path = os.path.join(output_dir, 'encodings.pkl')\n",
        "    csv_path = os.path.join(output_dir, FOLDER_CSV)\n",
        "\n",
        "    # Load model if exists\n",
        "    if incremental and os.path.exists(encodings_path):\n",
        "        print('Loading existing encodings...')\n",
        "        with open(encodings_path, 'rb') as f:\n",
        "            data = pickle.load(f)\n",
        "            names = data['names']\n",
        "            encodings = data['encodings']\n",
        "        print(f'Loaded {len(encodings)} known faces.')\n",
        "    else:\n",
        "        print('Starting fresh training...')\n",
        "        names, encodings = [], []\n",
        "\n",
        "    # Load which folders (names) are already trained\n",
        "    trained_folders = load_trained_folders(csv_path)\n",
        "    print(f\"Already trained folders: {trained_folders or 'None'}\")\n",
        "\n",
        "    training_root = Path(training_dir)\n",
        "    new_folders = [p for p in training_root.iterdir() if p.is_dir() and p.name not in trained_folders]\n",
        "\n",
        "    if not new_folders:\n",
        "        print('No new folders to train. Everything is up to date.')\n",
        "        return\n",
        "\n",
        "    for folder in new_folders:\n",
        "        person_name = folder.name\n",
        "        print(f'\\nTraining new folder: {person_name}')\n",
        "\n",
        "        for fp in folder.glob('*'):\n",
        "            if fp.is_file():\n",
        "                img = face_recognition.load_image_file(fp)\n",
        "                locs = face_recognition.face_locations(img, model='hog')\n",
        "                codes = face_recognition.face_encodings(img, locs)\n",
        "                for code in codes:\n",
        "                    names.append(person_name)\n",
        "                    encodings.append(code)\n",
        "\n",
        "        trained_folders.add(person_name)\n",
        "        print(f\"Trained folder '{person_name}' with {len(list(folder.glob('*')))} images.\")\n",
        "\n",
        "    # Save updated encodings\n",
        "    out = {'names': names, 'encodings': encodings}\n",
        "    os.makedirs(output_dir, exist_ok=True)\n",
        "    with open(encodings_path, 'wb') as f:\n",
        "        pickle.dump(out, f)\n",
        "    print('✅ Updated model saved as encodings.pkl')\n",
        "\n",
        "    # Save updated trained folder list\n",
        "    save_trained_folders(trained_folders, csv_path)\n",
        "    print(f'✅ Updated folder list saved in {FOLDER_CSV}')\n"
      ]
    },
    {
      "cell_type": "markdown",
      "id": "320c8a30",
      "metadata": {
        "id": "320c8a30"
      },
      "source": [
        "## Run Training\n",
        "Run the following cell to perform training. It will:\n",
        "- Load existing encodings if available (when `incremental=True`).\n",
        "- Process only new person folders under `training/`.\n",
        "- Save the updated encodings file and CSV.\n",
        "\n",
        "Tip: Add a new subfolder under `training/` (e.g., `training/alex/`) with a few face images, then rerun this cell to append Alex's encodings without retraining others."
      ]
    },
    {
      "cell_type": "code",
      "execution_count": null,
      "id": "4bb5cfbd",
      "metadata": {
        "id": "4bb5cfbd",
        "outputId": "f1e79461-4f6b-41f0-fe51-36910e576546"
      },
      "outputs": [
        {
          "name": "stdout",
          "output_type": "stream",
          "text": [
            "Loading existing encodings...\n",
            "Loaded 428 known faces.\n",
            "Already trained folders: {'mark_zuckerberg', 'saba', 'trump', 'inky'}\n",
            "No new folders to train. Everything is up to date.\n"
          ]
        }
      ],
      "source": [
        "# Run training (uses TRAINING_DIR and OUTPUT_DIR above)\n",
        "train_faces(incremental=True)\n"
      ]
    }
  ],
  "metadata": {
    "kernelspec": {
      "display_name": "Python 3",
      "name": "python3"
    },
    "language_info": {
      "codemirror_mode": {
        "name": "ipython",
        "version": 3
      },
      "file_extension": ".py",
      "mimetype": "text/x-python",
      "name": "python",
      "nbconvert_exporter": "python",
      "pygments_lexer": "ipython3",
      "version": "3.11.14"
    },
    "colab": {
      "provenance": [],
      "machine_shape": "hm",
      "gpuType": "L4"
    },
    "accelerator": "GPU"
  },
  "nbformat": 4,
  "nbformat_minor": 5
}