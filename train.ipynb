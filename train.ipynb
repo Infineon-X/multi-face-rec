{
 "cells": [
  {
   "cell_type": "markdown",
   "id": "cf27c470",
   "metadata": {},
   "source": [
    "[![Open In Colab](https://colab.research.google.com/assets/colab-badge.svg)](https://colab.research.google.com/github/Infineon-X/multi-face-rec/blob/main/train.ipynb)  \\n",
    "train.ipynb is compatible with Google Colab."
   ]
  },
  {
   "cell_type": "markdown",
   "metadata": {},
   "source": [
    "# Face Training Notebook\n",
    "\n",
    "This notebook mirrors the project's `train.py` and adds step-by-step explanations. It incrementally builds and updates a face encodings database (`encodings.pkl`) from images stored under the `training/` directory. It also tracks which person folders have already been processed in `trained_folders.csv` to avoid retraining the same images."
   ]
  },
  {
   "cell_type": "markdown",
   "metadata": {},
   "source": [
    "## How It Works\n",
    "- Scans `training/` for subfolders, one per person (folder name = label).\n",
    "- Optionally loads existing encodings to add new faces incrementally.\n",
    "- Detects faces in each image and computes embeddings using `face_recognition`.\n",
    "- Saves updated encodings to `encodings.pkl` and updates `trained_folders.csv`.\n",
    "\n",
    "If you add a new folder under `training/`, re-run the training cell to append new encodings without retraining previous ones."
   ]
  },
  {
   "cell_type": "markdown",
   "metadata": {},
   "source": [
    "## Imports and Configuration\n",
    "These imports and constants are identical to `train.py`. The `FOLDER_CSV` file records which person folders have already been processed."
   ]
  },
  {
   "cell_type": "code",
   "execution_count": 1,
   "metadata": {},
   "outputs": [
    {
     "name": "stderr",
     "output_type": "stream",
     "text": [
      "/Users/inky/Desktop/face-recognition-project/venv/lib/python3.11/site-packages/face_recognition_models/__init__.py:7: UserWarning: pkg_resources is deprecated as an API. See https://setuptools.pypa.io/en/latest/pkg_resources.html. The pkg_resources package is slated for removal as early as 2025-11-30. Refrain from using this package or pin to Setuptools<81.\n",
      "  from pkg_resources import resource_filename\n"
     ]
    }
   ],
   "source": [
    "import face_recognition\n",
    "from pathlib import Path\n",
    "import pickle\n",
    "import os\n",
    "import csv\n",
    "\n",
    "FOLDER_CSV = \"trained_folders.csv\"\n"
   ]
  },
  {
   "cell_type": "markdown",
   "metadata": {},
   "source": [
    "## Tracking Trained Folders\n",
    "We maintain a simple CSV file containing folder names that have been trained. This prevents reprocessing the same people on subsequent runs (incremental training)."
   ]
  },
  {
   "cell_type": "code",
   "execution_count": 2,
   "metadata": {},
   "outputs": [],
   "source": [
    "def load_trained_folders(csv_path=FOLDER_CSV):\n",
    "    trained = set()\n",
    "    if os.path.exists(csv_path):\n",
    "        with open(csv_path, newline=\"\") as csvfile:\n",
    "            reader = csv.reader(csvfile)\n",
    "            for row in reader:\n",
    "                if row:\n",
    "                    trained.add(row[0])\n",
    "    return trained\n",
    "\n",
    "\n",
    "def save_trained_folders(trained, csv_path=FOLDER_CSV):\n",
    "    with open(csv_path, \"w\", newline=\"\") as csvfile:\n",
    "        writer = csv.writer(csvfile)\n",
    "        for folder in sorted(trained):\n",
    "            writer.writerow([folder])\n"
   ]
  },
  {
   "cell_type": "markdown",
   "metadata": {},
   "source": [
    "## Training Function\n",
    "The `train_faces` function is copied directly from `train.py`.\n",
    "- If `incremental=True` and `encodings.pkl` exists, the existing encodings are loaded and extended.\n",
    "- The code identifies new person folders (not listed in `trained_folders.csv`) and processes only those.\n",
    "- Each image is read, faces are located using the HOG model, and encodings are computed and stored along with the associated person name.\n",
    "- Results are persisted to `encodings.pkl`, and the folder list is updated."
   ]
  },
  {
   "cell_type": "code",
   "execution_count": 3,
   "metadata": {},
   "outputs": [],
   "source": [
    "def train_faces(incremental=True):\n",
    "    \"\"\"Train faces and skip folders (people) already trained before.\"\"\"\n",
    "\n",
    "    # Load model if exists\n",
    "    if incremental and os.path.exists(\"encodings.pkl\"):\n",
    "        print(\"Loading existing encodings...\")\n",
    "        with open(\"encodings.pkl\", \"rb\") as f:\n",
    "            data = pickle.load(f)\n",
    "            names = data[\"names\"]\n",
    "            encodings = data[\"encodings\"]\n",
    "        print(f\"Loaded {len(encodings)} known faces.\")\n",
    "    else:\n",
    "        print(\"Starting fresh training...\")\n",
    "        names, encodings = [], []\n",
    "\n",
    "    # Load which folders (names) are already trained\n",
    "    trained_folders = load_trained_folders()\n",
    "    print(f\"Already trained folders: {trained_folders or 'None'}\")\n",
    "\n",
    "    training_root = Path(\"training\")\n",
    "    new_folders = [p for p in training_root.iterdir() if p.is_dir() and p.name not in trained_folders]\n",
    "\n",
    "    if not new_folders:\n",
    "        print(\"No new folders to train. Everything is up to date.\")\n",
    "        return\n",
    "\n",
    "    for folder in new_folders:\n",
    "        person_name = folder.name\n",
    "        print(f\"\\nTraining new folder: {person_name}\")\n",
    "\n",
    "        for fp in folder.glob(\"*\"):\n",
    "            if fp.is_file():\n",
    "                img = face_recognition.load_image_file(fp)\n",
    "                locs = face_recognition.face_locations(img, model=\"hog\")\n",
    "                codes = face_recognition.face_encodings(img, locs)\n",
    "                for code in codes:\n",
    "                    names.append(person_name)\n",
    "                    encodings.append(code)\n",
    "\n",
    "        trained_folders.add(person_name)\n",
    "        print(f\"Trained folder '{person_name}' with {len(list(folder.glob('*')))} images.\")\n",
    "\n",
    "    # Save updated encodings\n",
    "    out = {\"names\": names, \"encodings\": encodings}\n",
    "    with open(\"encodings.pkl\", \"wb\") as f:\n",
    "        pickle.dump(out, f)\n",
    "    print(\"✅ Updated model saved as encodings.pkl\")\n",
    "\n",
    "    # Save updated trained folder list\n",
    "    save_trained_folders(trained_folders)\n",
    "    print(f\"✅ Updated folder list saved in {FOLDER_CSV}\")\n"
   ]
  },
  {
   "cell_type": "markdown",
   "metadata": {},
   "source": [
    "## Run Training\n",
    "Run the following cell to perform training. It will:\n",
    "- Load existing encodings if available (when `incremental=True`).\n",
    "- Process only new person folders under `training/`.\n",
    "- Save the updated encodings file and CSV.\n",
    "\n",
    "Tip: Add a new subfolder under `training/` (e.g., `training/alex/`) with a few face images, then rerun this cell to append Alex's encodings without retraining others."
   ]
  },
  {
   "cell_type": "code",
   "execution_count": 4,
   "metadata": {},
   "outputs": [
    {
     "name": "stdout",
     "output_type": "stream",
     "text": [
      "Loading existing encodings...\n",
      "Loaded 428 known faces.\n",
      "Already trained folders: {'mark_zuckerberg', 'saba', 'trump', 'inky'}\n",
      "No new folders to train. Everything is up to date.\n"
     ]
    }
   ],
   "source": [
    "if __name__ == \"__main__\":\n",
    "    train_faces(incremental=True)\n"
   ]
  }
 ],
 "metadata": {
  "kernelspec": {
   "display_name": "venv",
   "language": "python",
   "name": "python3"
  },
  "language_info": {
   "codemirror_mode": {
    "name": "ipython",
    "version": 3
   },
   "file_extension": ".py",
   "mimetype": "text/x-python",
   "name": "python",
   "nbconvert_exporter": "python",
   "pygments_lexer": "ipython3",
   "version": "3.11.14"
  }
 },
 "nbformat": 4,
 "nbformat_minor": 5
}